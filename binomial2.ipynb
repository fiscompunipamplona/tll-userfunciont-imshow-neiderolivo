{
 "cells": [
  {
   "cell_type": "code",
   "execution_count": 3,
   "metadata": {},
   "outputs": [],
   "source": [
    "def factores (n):\n",
    "    listafactores =[]\n",
    "    k=2\n",
    "    while k<=n:\n",
    "        while n%k==0:\n",
    "            listafactores.append(k)\n",
    "            n //=k\n",
    "        k +=1\n",
    "    return listafactores\n",
    "#print(factores(17556))"
   ]
  },
  {
   "cell_type": "code",
   "execution_count": 26,
   "metadata": {},
   "outputs": [
    {
     "ename": "SyntaxError",
     "evalue": "unexpected EOF while parsing (<ipython-input-26-5b4d348f1677>, line 4)",
     "output_type": "error",
     "traceback": [
      "\u001b[1;36m  File \u001b[1;32m\"<ipython-input-26-5b4d348f1677>\"\u001b[1;36m, line \u001b[1;32m4\u001b[0m\n\u001b[1;33m    #print(factores(n))\u001b[0m\n\u001b[1;37m                       ^\u001b[0m\n\u001b[1;31mSyntaxError\u001b[0m\u001b[1;31m:\u001b[0m unexpected EOF while parsing\n"
     ]
    }
   ],
   "source": [
    "for n in range(2,10000):\n",
    "    if len (factores(n))==1:\n",
    "       # print (n)\n",
    "        print(factores(n))"
   ]
  },
  {
   "cell_type": "markdown",
   "metadata": {},
   "source": [
    "# problea 2.11 coeficiente binomial\n",
    "El coeficiente binomial  es un número entero igual a\n",
    "\n",
    "\n",
    "${n\\choose k} = {n!\\over k!(n-k)!}\n",
    "  = {n\\times(n-1)\\times(n-2)\\times\\ldots\\times(n-k+1)\\over\n",
    "     1\\times2\\times\\ldots\\times k}$\n",
    "\n",
    "cuando $k\\ge1$, o ${n\\choose0}=1$ cuando $k=0$.\n",
    "\n",
    "a) Usando este formulario para el coeficiente binomial, escriba una función binomial definida por el usuario (n, k) eso calcula el coeficiente binomial para n y k dados. Asegúrese de que su función regrese la respuesta en forma de un entero (no un flotante) y da el valor correcto de 1 para el\n",
    "caso donde k = 0.\n",
    "\n",
    "b) Usando su función, escriba un programa para imprimir las primeras 20 líneas del \"triángulo de Pascal\".\n",
    "La enésima línea del triángulo de Pascal contiene n + 1 números, que son los coeficientes $ {n \\choose 0} $,\n",
    "$ {n \\choose 1} $, y así sucesivamente hasta $ {n \\choose n} $. Así, las primeras líneas son:\n",
    "\n",
    "\n",
    "1 1 \n",
    "\n",
    "1 2 1 \n",
    "\n",
    "1 3 3 1 \n",
    "\n",
    "1 4 6 4 1\n",
    "\n",
    "\n",
    "\n",
    "c) La probabilidad de que una moneda imparcial, lanzada $ n $ veces, salga cara $ k $ veces es ${n\\choose k}/2^n$. Escriba un programa para calcular (a) la probabilidad total de que una moneda lanzada 100 veces salga cara exactamente 60 veces, y (b) la probabilidad de que salga cara 60 o más veces.\n"
   ]
  },
  {
   "cell_type": "markdown",
   "metadata": {},
   "source": [
    "# solucion \n",
    "\n",
    "# parte a)"
   ]
  },
  {
   "cell_type": "code",
   "execution_count": 1,
   "metadata": {},
   "outputs": [],
   "source": [
    "def factorial(n):\n",
    "    s = 1.0\n",
    "    for i in range(1,n+1):\n",
    "        s *= i\n",
    "    return s"
   ]
  },
  {
   "cell_type": "code",
   "execution_count": 2,
   "metadata": {},
   "outputs": [],
   "source": [
    "def binomial(n, k):\n",
    "    if k > 0:\n",
    "        res = factorial(n)/( factorial(k)*factorial(n-k))\n",
    "    elif k == 0:\n",
    "        res = 1\n",
    "    elif k < 0:\n",
    "        return(print(\"k<0; imposible to calculate\"))\n",
    "    return(int(res))\n",
    "\n",
    "def binomial2(n, k):\n",
    "    if k > 0:\n",
    "        den = factorial(k)\n",
    "        num = 1.0\n",
    "        tmp = n\n",
    "        while( tmp >= (n-k+1)  ):\n",
    "            num *= tmp\n",
    "            tmp -= 1\n",
    "        res = num/den\n",
    "    elif k < 0:\n",
    "        return(print(\"k<0; imposible to calculate\"))\n",
    "    return(int(res))"
   ]
  },
  {
   "cell_type": "code",
   "execution_count": null,
   "metadata": {},
   "outputs": [],
   "source": [
    "a = binomial(30,1)\n",
    "print(a)"
   ]
  },
  {
   "cell_type": "markdown",
   "metadata": {},
   "source": [
    "# solucion b triangulo de pascal:"
   ]
  },
  {
   "cell_type": "code",
   "execution_count": null,
   "metadata": {},
   "outputs": [],
   "source": [
    "x=int(input(\"DIgita el numero de filas que quieras que tenga el triangulo de pascal:\"))\n",
    "n=0\n",
    "k=0\n",
    "tri=[]\n",
    "while(n<=x):\n",
    "    tri=[]\n",
    "    while(k<=n):\n",
    "        nomi=binomial(n,k)\n",
    "        k=k+1\n",
    "        tri.append(nomi)\n",
    "        #print(nomi)\n",
    "\n",
    "    n=n+1\n",
    "    k=0\n",
    "    print(tri)\n",
    "    print('')\n",
    "   # print('')\n",
    "   # print('')\n"
   ]
  },
  {
   "cell_type": "markdown",
   "metadata": {},
   "source": [
    "   # solucion inciso c)\n",
    "   # probabilidad de una moneda"
   ]
  },
  {
   "cell_type": "code",
   "execution_count": 27,
   "metadata": {},
   "outputs": [
    {
     "name": "stdout",
     "output_type": "stream",
     "text": [
      "ingrese el numero de veces que quiere lanzar la moneda: 7\n",
      "ingrese elnumero de veces que quiere que caiga cara:4\n",
      "la probalidad de  que caiga cara: 4 veces al lanzar la moneda: 7 veces es: 0.2734375\n"
     ]
    }
   ],
   "source": [
    "n=int(input(\"ingrese el numero de veces que quiere lanzar la moneda: \")) #numero de veces que se lanza la moneda \n",
    "k2=int(input(\"ingrese elnumero de veces que quiere que caiga cara:\")) # nnumero de veces que cae cara \n",
    "PR2=binomial2(n,k2)/(2**n)\n",
    "#PR1=binomial2(n,k1)/(2**n)\n",
    "print(\"la probalidad de  que caiga cara:\",k2, \"veces al lanzar la moneda:\",n, \"veces es:\", PR2)"
   ]
  },
  {
   "cell_type": "markdown",
   "metadata": {},
   "source": [
    "# probabilidad de un numero mayor de 60"
   ]
  },
  {
   "cell_type": "code",
   "execution_count": 25,
   "metadata": {},
   "outputs": [
    {
     "name": "stdout",
     "output_type": "stream",
     "text": [
      "60 ---------------> 0.010843866711637985\n",
      "61 ---------------> 0.007110732269926549\n",
      "62 ---------------> 0.004472879976244119\n",
      "63 ---------------> 0.0026979276047186754\n",
      "64 ---------------> 0.0015597393964779844\n",
      "65 ---------------> 0.0008638556657416528\n",
      "66 ---------------> 0.00045810527728724014\n",
      "67 ---------------> 0.0002324713347427786\n",
      "68 ---------------> 0.00011281697127223079\n",
      "69 ---------------> 5.232091421320849e-05\n",
      "70 ---------------> 2.3170690580135187e-05\n",
      "71 ---------------> 9.790432639493742e-06\n",
      "72 ---------------> 3.943368702018313e-06\n",
      "73 ---------------> 1.5125249815960651e-06\n",
      "74 ---------------> 5.518672230147805e-07\n",
      "75 ---------------> 1.9131397064512394e-07\n",
      "76 ---------------> 6.293222718589603e-08\n",
      "77 ---------------> 1.9615239642357204e-08\n",
      "78 ---------------> 5.783980920182252e-09\n",
      "79 ---------------> 1.610728863848222e-09\n",
      "80 ---------------> 4.228163267601583e-10\n",
      "81 ---------------> 1.043990930271996e-10\n",
      "82 ---------------> 2.4190033750204783e-11\n",
      "83 ---------------> 5.2460314157070625e-12\n",
      "84 ---------------> 1.061696834131191e-12\n",
      "85 ---------------> 1.9984881583645948e-13\n",
      "86 ---------------> 3.4857351599382467e-14\n",
      "87 ---------------> 5.6092289930040754e-15\n",
      "88 ---------------> 8.286361012392381e-16\n",
      "89 ---------------> 1.1172621589742536e-16\n",
      "90 ---------------> 1.3655426387463099e-17\n",
      "91 ---------------> 1.5005963063146263e-18\n",
      "92 ---------------> 1.4679746474816996e-19\n",
      "93 ---------------> 1.2627738903068384e-20\n",
      "94 ---------------> 9.403635353348797e-22\n",
      "95 ---------------> 5.939138117904503e-23\n",
      "96 ---------------> 3.093301103075262e-24\n",
      "97 ---------------> 1.275588083742376e-25\n",
      "98 ---------------> 3.9048614808440084e-27\n",
      "99 ---------------> 7.888609052210118e-29\n"
     ]
    }
   ],
   "source": [
    "n=100#int(input(\"ingrese el numero hasta el cual quiere saber la probabilidad: \"))\n",
    "k=60\n",
    "for i in range(k,n):\n",
    "    PR=binomial2(n,i)/(2**n)\n",
    "    print(i,\"--------------->\",PR)"
   ]
  },
  {
   "cell_type": "code",
   "execution_count": null,
   "metadata": {},
   "outputs": [],
   "source": []
  },
  {
   "cell_type": "code",
   "execution_count": null,
   "metadata": {},
   "outputs": [],
   "source": []
  }
 ],
 "metadata": {
  "kernelspec": {
   "display_name": "Python 3",
   "language": "python",
   "name": "python3"
  },
  "language_info": {
   "codemirror_mode": {
    "name": "ipython",
    "version": 3
   },
   "file_extension": ".py",
   "mimetype": "text/x-python",
   "name": "python",
   "nbconvert_exporter": "python",
   "pygments_lexer": "ipython3",
   "version": "3.7.3"
  }
 },
 "nbformat": 4,
 "nbformat_minor": 2
}
